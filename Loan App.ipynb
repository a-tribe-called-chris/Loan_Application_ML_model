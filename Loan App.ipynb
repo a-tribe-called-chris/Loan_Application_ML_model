{
 "cells": [
  {
   "cell_type": "code",
   "execution_count": 4,
   "metadata": {},
   "outputs": [
    {
     "data": {
      "text/plain": [
       "(598, 13)"
      ]
     },
     "execution_count": 4,
     "metadata": {},
     "output_type": "execute_result"
    }
   ],
   "source": [
    "#import pandas as pd\n",
    "import pandas as pd\n",
    "#read in csv as a dataframe\n",
    "data = pd.read_csv('LoanApprovalPrediction.csv')\n",
    "#check the shape of the dataframe\n",
    "data.shape"
   ]
  },
  {
   "cell_type": "code",
   "execution_count": 5,
   "metadata": {},
   "outputs": [
    {
     "name": "stdout",
     "output_type": "stream",
     "text": [
      "<class 'pandas.core.frame.DataFrame'>\n",
      "RangeIndex: 598 entries, 0 to 597\n",
      "Data columns (total 13 columns):\n",
      " #   Column             Non-Null Count  Dtype  \n",
      "---  ------             --------------  -----  \n",
      " 0   Loan_ID            598 non-null    object \n",
      " 1   Gender             598 non-null    object \n",
      " 2   Married            598 non-null    object \n",
      " 3   Dependents         586 non-null    float64\n",
      " 4   Education          598 non-null    object \n",
      " 5   Self_Employed      598 non-null    object \n",
      " 6   ApplicantIncome    598 non-null    int64  \n",
      " 7   CoapplicantIncome  598 non-null    float64\n",
      " 8   LoanAmount         577 non-null    float64\n",
      " 9   Loan_Amount_Term   584 non-null    float64\n",
      " 10  Credit_History     549 non-null    float64\n",
      " 11  Property_Area      598 non-null    object \n",
      " 12  Loan_Status        598 non-null    object \n",
      "dtypes: float64(5), int64(1), object(7)\n",
      "memory usage: 60.9+ KB\n"
     ]
    }
   ],
   "source": [
    "#some quick info about the dataframe\n",
    "data.info()"
   ]
  },
  {
   "cell_type": "code",
   "execution_count": 8,
   "metadata": {},
   "outputs": [
    {
     "data": {
      "text/plain": [
       "Loan_ID               0\n",
       "Gender                0\n",
       "Married               0\n",
       "Dependents           12\n",
       "Education             0\n",
       "Self_Employed         0\n",
       "ApplicantIncome       0\n",
       "CoapplicantIncome     0\n",
       "LoanAmount           21\n",
       "Loan_Amount_Term     14\n",
       "Credit_History       49\n",
       "Property_Area         0\n",
       "Loan_Status           0\n",
       "dtype: int64"
      ]
     },
     "execution_count": 8,
     "metadata": {},
     "output_type": "execute_result"
    }
   ],
   "source": [
    "#here we will check for missing values\n",
    "data.isna().sum()"
   ]
  },
  {
   "cell_type": "code",
   "execution_count": 7,
   "metadata": {},
   "outputs": [
    {
     "data": {
      "text/plain": [
       "598"
      ]
     },
     "execution_count": 7,
     "metadata": {},
     "output_type": "execute_result"
    }
   ],
   "source": [
    "#checking the number of unique values in Loan_ID\n",
    "data.Loan_ID.nunique()"
   ]
  },
  {
   "cell_type": "code",
   "execution_count": 9,
   "metadata": {},
   "outputs": [],
   "source": [
    "#dropping the Loan_ID column because it will have no impact on the models as the ID is simply a unique identifier\n",
    "data.drop('Loan_ID', axis=1, inplace=True)"
   ]
  },
  {
   "cell_type": "code",
   "execution_count": 10,
   "metadata": {},
   "outputs": [
    {
     "data": {
      "text/plain": [
       "96"
      ]
     },
     "execution_count": 10,
     "metadata": {},
     "output_type": "execute_result"
    }
   ],
   "source": [
    "#checking for how many missing values are in the dataframe total\n",
    "data.isna().sum().sum()\n",
    "\n",
    "#96/598 ~= 16% of the data is missing, indicating this is a problem and needs to be cleaned up if we want an accurate model/accurate results"
   ]
  },
  {
   "cell_type": "code",
   "execution_count": 11,
   "metadata": {},
   "outputs": [],
   "source": [
    "#maping gender from Male:Female to 0:1\n",
    "data.Gender = data.Gender.map({'Male': 0, 'Female':1})"
   ]
  },
  {
   "cell_type": "code",
   "execution_count": 18,
   "metadata": {},
   "outputs": [
    {
     "data": {
      "text/plain": [
       "<bound method DataFrame.info of      Gender Married  Dependents     Education Self_Employed  ApplicantIncome  \\\n",
       "0         0      No         0.0      Graduate            No             5849   \n",
       "1         0     Yes         1.0      Graduate            No             4583   \n",
       "2         0     Yes         0.0      Graduate           Yes             3000   \n",
       "3         0     Yes         0.0  Not Graduate            No             2583   \n",
       "4         0      No         0.0      Graduate            No             6000   \n",
       "..      ...     ...         ...           ...           ...              ...   \n",
       "593       1      No         0.0      Graduate            No             2900   \n",
       "594       0     Yes         3.0      Graduate            No             4106   \n",
       "595       0     Yes         1.0      Graduate            No             8072   \n",
       "596       0     Yes         2.0      Graduate            No             7583   \n",
       "597       1      No         0.0      Graduate           Yes             4583   \n",
       "\n",
       "     CoapplicantIncome  LoanAmount  Loan_Amount_Term  Credit_History  \\\n",
       "0                  0.0         NaN             360.0             1.0   \n",
       "1               1508.0       128.0             360.0             1.0   \n",
       "2                  0.0        66.0             360.0             1.0   \n",
       "3               2358.0       120.0             360.0             1.0   \n",
       "4                  0.0       141.0             360.0             1.0   \n",
       "..                 ...         ...               ...             ...   \n",
       "593                0.0        71.0             360.0             1.0   \n",
       "594                0.0        40.0             180.0             1.0   \n",
       "595              240.0       253.0             360.0             1.0   \n",
       "596                0.0       187.0             360.0             1.0   \n",
       "597                0.0       133.0             360.0             0.0   \n",
       "\n",
       "    Property_Area Loan_Status  \n",
       "0           Urban           Y  \n",
       "1           Rural           N  \n",
       "2           Urban           Y  \n",
       "3           Urban           Y  \n",
       "4           Urban           Y  \n",
       "..            ...         ...  \n",
       "593         Rural           Y  \n",
       "594         Rural           Y  \n",
       "595         Urban           Y  \n",
       "596         Urban           Y  \n",
       "597     Semiurban           N  \n",
       "\n",
       "[598 rows x 12 columns]>"
      ]
     },
     "execution_count": 18,
     "metadata": {},
     "output_type": "execute_result"
    }
   ],
   "source": [
    "data.info"
   ]
  },
  {
   "cell_type": "code",
   "execution_count": 12,
   "metadata": {},
   "outputs": [],
   "source": [
    "#import packages for data processing\n",
    "from sklearn.preprocessing import LabelEncoder\n",
    "#run label encoder \n",
    "le = LabelEncoder()\n",
    "#check for object type columns\n",
    "obj = (data.dtypes == 'object')\n",
    "#for each column, that is obj[obj], run label encoder.fit_transpose on each column\n",
    "for col in list (obj[obj].index):\n",
    "    data[col] = le.fit_transform(data[col])"
   ]
  },
  {
   "cell_type": "code",
   "execution_count": 13,
   "metadata": {},
   "outputs": [],
   "source": [
    "#applying the mean for each column to fill in any missing values\n",
    "for col in data.columns:\n",
    "    data[col] = data[col].fillna(data[col].mean())"
   ]
  },
  {
   "cell_type": "code",
   "execution_count": 14,
   "metadata": {},
   "outputs": [
    {
     "data": {
      "text/plain": [
       "Gender               0\n",
       "Married              0\n",
       "Dependents           0\n",
       "Education            0\n",
       "Self_Employed        0\n",
       "ApplicantIncome      0\n",
       "CoapplicantIncome    0\n",
       "LoanAmount           0\n",
       "Loan_Amount_Term     0\n",
       "Credit_History       0\n",
       "Property_Area        0\n",
       "Loan_Status          0\n",
       "dtype: int64"
      ]
     },
     "execution_count": 14,
     "metadata": {},
     "output_type": "execute_result"
    }
   ],
   "source": [
    "#checking to confirm we have 0 missing values\n",
    "data.isnull().sum()"
   ]
  },
  {
   "cell_type": "code",
   "execution_count": 15,
   "metadata": {},
   "outputs": [],
   "source": [
    "#setting parameters for the model, x = all columns except for Loan_Status, y = Loan_Status\n",
    "x = data.drop('Loan_Status', axis=1)\n",
    "y = data.Loan_Status"
   ]
  },
  {
   "cell_type": "code",
   "execution_count": 16,
   "metadata": {},
   "outputs": [],
   "source": [
    "#import train_test_split from sklearn\n",
    "from sklearn.model_selection import train_test_split\n",
    "#split the data into training and testing sets, 70% training, 30% testing, random_state = 7\n",
    "x_train, x_test, y_train, y_test = train_test_split(x, y, test_size=0.3, random_state=7)"
   ]
  },
  {
   "cell_type": "code",
   "execution_count": 25,
   "metadata": {},
   "outputs": [
    {
     "data": {
      "text/plain": [
       "82.22222222222221"
      ]
     },
     "execution_count": 25,
     "metadata": {},
     "output_type": "execute_result"
    }
   ],
   "source": [
    "#import packages for modeling and serialization\n",
    "from sklearn.linear_model import LogisticRegression\n",
    "from sklearn.linear_model import RidgeClassifier\n",
    "from sklearn.metrics import accuracy_score\n",
    "import pickle\n",
    "\n",
    "#run the model\n",
    "model = RidgeClassifier()\n",
    "\n",
    "#function to fit the model and return the accuracy score\n",
    "def modeling(model):\n",
    "    model.fit(x_train, y_train)\n",
    "    y_pred = model.predict(x_test)\n",
    "    return accuracy_score(y_test, y_pred) * 100\n",
    "\n",
    "#serilizing the model for future use     \n",
    "with open('train_model.pkl', mode = 'wb') as pkl:\n",
    "    pickle.dump(model, pkl)\n",
    "\n",
    "modeling(model)"
   ]
  },
  {
   "attachments": {},
   "cell_type": "markdown",
   "metadata": {},
   "source": [
    "I tried several models before determining the RidgeClassifer had the best performance on this data. \n",
    "\n",
    "That lead me to the question what is a RidgeClassifer and how does it work? Let's explore a bit of that now.\n",
    "\n",
    "Ridge regression is a style of regression that helps models avoid overfitting, it makes the model more general. \n",
    "\n",
    "Overfitting of a model on data occurs when the training data allows the model to train very effciently (very low loss function) but doesnt allow the model to generalize and performs very poorly on the test data. \n",
    "\n",
    "Ridge regression reduces weights and biasis in the model which penalizes the model in training for a better performance during testing. \n",
    "\n",
    "Least sqaures regression = min(sum of squared distance away from expected result)\n",
    "\n",
    "Rdige regression = min(sum of squared distance away from expected result) + (ALPHA * slope^2)\n",
    "\n",
    "where alpha varies from 0 (exactly the least square regression slope) and as alpha increases the model reduces in slope and becomes less sensitive to the varaiations of the indepent variable. \n",
    "\n",
    "Because this was the best performing model, we can assume some of the loss across all of the models would be attributed to the model being overly senstive to the independent variables and unable to generalize across the complexities of the data. That being said we used a fairly small data set here, and I believe with some additional data and a few small model tweaks an accuracy of 90+% is easily achieveable. \n",
    "\n"
   ]
  }
 ],
 "metadata": {
  "kernelspec": {
   "display_name": "base",
   "language": "python",
   "name": "python3"
  },
  "language_info": {
   "codemirror_mode": {
    "name": "ipython",
    "version": 3
   },
   "file_extension": ".py",
   "mimetype": "text/x-python",
   "name": "python",
   "nbconvert_exporter": "python",
   "pygments_lexer": "ipython3",
   "version": "3.9.7 (default, Sep 16 2021, 16:59:28) [MSC v.1916 64 bit (AMD64)]"
  },
  "orig_nbformat": 4,
  "vscode": {
   "interpreter": {
    "hash": "df3f64ca5e16a52414df56f6fd8e5b33b60cd9e67139926ade6a9b44fe3fa7c2"
   }
  }
 },
 "nbformat": 4,
 "nbformat_minor": 2
}
